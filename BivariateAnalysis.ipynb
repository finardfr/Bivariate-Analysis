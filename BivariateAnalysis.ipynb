{
 "cells": [
  {
   "cell_type": "code",
   "execution_count": 1,
   "metadata": {},
   "outputs": [],
   "source": [
    "import yfinance as yf\n",
    "import plotly.graph_objects as go\n",
    "import pandas as pd"
   ]
  },
  {
   "cell_type": "code",
   "execution_count": null,
   "metadata": {},
   "outputs": [],
   "source": [
    "# Scarica i dati giornalieri dell'S&P 500 e dello STOXX50\n",
    "sp500_data = yf.download('^GSPC', start='2020-01-01', end='2024-01-01',interval='1d')\n",
    "stoxx50_data = yf.download('^STOXX', start='2020-01-01', end='2024-01-01', interval='1d')\n",
    "\n",
    "# Reimposta l'indice\n",
    "sp500_data.reset_index(inplace=True)\n",
    "stoxx50_data.reset_index(inplace=True)"
   ]
  },
  {
   "cell_type": "code",
   "execution_count": null,
   "metadata": {},
   "outputs": [],
   "source": [
    "# Normalizza i dati in modo che entrambi partano da 100\n",
    "sp500_data['Normalized'] = (sp500_data['Adj Close'] / sp500_data['Adj Close'].iloc[0]) * 100\n",
    "stoxx50_data['Normalized'] = (stoxx50_data['Adj Close'] / stoxx50_data['Adj Close'].iloc[0]) * 100"
   ]
  },
  {
   "cell_type": "code",
   "execution_count": null,
   "metadata": {},
   "outputs": [],
   "source": [
    "# Unisci i dati in un unico DataFrame\n",
    "merged_data = pd.merge(sp500_data[['Date', 'Normalized']], stoxx50_data[['Date', 'Normalized']], on='Date', suffixes=('_SP500', '_STOXX'))\n",
    "\n",
    "# Calcola la rolling correlation con una finestra di 30 giorni\n",
    "merged_data['RollingCorr'] = merged_data['Normalized_SP500'].rolling(window=12).corr(merged_data['Normalized_STOXX'])\n",
    "\n",
    "from scipy.stats import spearmanr\n",
    "# Calcola la rank correlation con una finestra di 30 giorni\n",
    "def rolling_spearmanr(x, y, window):\n",
    "    return [spearmanr(x[i:i+window], y[i:i+window])[0] if len(x[i:i+window]) == window else None for i in range(len(x))]\n",
    "\n",
    "merged_data['RankCorr'] = rolling_spearmanr(merged_data['Normalized_SP500'], merged_data['Normalized_STOXX'], 30)"
   ]
  },
  {
   "cell_type": "code",
   "execution_count": null,
   "metadata": {},
   "outputs": [],
   "source": [
    "# Creazione dei frame per l'animazione\n",
    "frames = []\n",
    "dates = merged_data['Date']\n",
    "for date in dates:\n",
    "    data_until_date = merged_data[merged_data['Date'] <= date]\n",
    "    frames.append(go.Frame(\n",
    "        data=[\n",
    "            go.Scatter(x=data_until_date['Date'], y=data_until_date['Normalized_SP500'], mode='lines', name='S&P 500'),\n",
    "            go.Scatter(x=data_until_date['Date'], y=data_until_date['Normalized_STOXX'], mode='lines', name='STOXX'),\n",
    "            go.Scatter(x=data_until_date['Date'], y=data_until_date['RollingCorr'], mode='lines', name='Rolling Correlation', yaxis='y2'),\n",
    "            go.Scatter(x=data_until_date['Date'], y=data_until_date['RankCorr'], mode='lines', name='Rank Correlation', yaxis='y2')\n",
    "        ],\n",
    "        name=str(date)\n",
    "    ))"
   ]
  },
  {
   "cell_type": "code",
   "execution_count": null,
   "metadata": {},
   "outputs": [],
   "source": [
    "# Creazione della figura iniziale\n",
    "fig = go.Figure(\n",
    "    data=[\n",
    "        go.Scatter(x=merged_data['Date'], y=merged_data['Normalized_SP500'], mode='lines', name='S&P 500'),\n",
    "        go.Scatter(x=merged_data['Date'], y=merged_data['Normalized_STOXX'], mode='lines', name='STOXX'),\n",
    "        go.Scatter(x=merged_data['Date'], y=merged_data['RollingCorr'], mode='lines', name='Rolling Correlation', yaxis='y2'),\n",
    "        go.Scatter(x=data_until_date['Date'], y=data_until_date['RankCorr'], mode='lines', name='Rank Correlation', yaxis='y2')\n",
    "    ],\n",
    "    layout=go.Layout(\n",
    "        title=\"S&P 500 and STOXX Stock Market Over Time (Normalized to 100) with Rolling Correlation\",\n",
    "        title_x=0.5,  # Centra il titolo\n",
    "        yaxis=dict(title='Normalized Adjusted Close', autorange=True, domain=[0.4, 1]),  # Ridurre il dominio per ingrandire il grafico inferiore\n",
    "        yaxis2=dict(title='Rolling Correlation', autorange=True, domain=[0, 0.35], zeroline=True, zerolinewidth=0.5, zerolinecolor='red'),  # Aumentare il dominio per ingrandire il grafico inferiore\n",
    "\n",
    "        updatemenus=[dict(\n",
    "            type=\"buttons\",\n",
    "            showactive=False,\n",
    "            buttons=[\n",
    "                dict(\n",
    "                    label=\"Start\",\n",
    "                    method=\"animate\",\n",
    "                    args=[\n",
    "                        None,\n",
    "                        {\"frame\": {\"duration\": 25, \"redraw\": True}, \"fromcurrent\": True, \"mode\": \"immediate\", \"transition\": {\"duration\": 0}, \"loop\": True}\n",
    "                    ]\n",
    "                )\n",
    "            ]\n",
    "        )],\n",
    "        width=1200,  # Aumentare la larghezza della figura\n",
    "        height=800  # Aumentare l'altezza della figura\n",
    "    ),\n",
    "    frames=frames\n",
    ")\n",
    "\n",
    "# Visualizzazione dell'animazione nel notebook\n",
    "fig.show()"
   ]
  },
  {
   "cell_type": "code",
   "execution_count": null,
   "metadata": {},
   "outputs": [],
   "source": [
    "# Calcola i ritorni giornalieri\n",
    "sp500_data['Returns'] = sp500_data['Adj Close'].pct_change()\n",
    "stoxx50_data['Returns'] = stoxx50_data['Adj Close'].pct_change()\n",
    "\n",
    "# Rimuovi i dati NaN generati dal calcolo dei ritorni\n",
    "sp500_data.dropna(inplace=True)\n",
    "stoxx50_data.dropna(inplace=True)"
   ]
  },
  {
   "cell_type": "code",
   "execution_count": null,
   "metadata": {},
   "outputs": [],
   "source": [
    "# Unisci i dati in un unico DataFrame\n",
    "merged_data = pd.merge(sp500_data[['Date', 'Returns']], stoxx50_data[['Date', 'Returns']], on='Date', suffixes=('_SP500', '_STOXX'))"
   ]
  },
  {
   "cell_type": "code",
   "execution_count": null,
   "metadata": {},
   "outputs": [],
   "source": [
    "# Funzione per calcolare la percentuale di osservazioni in ciascun quadrante\n",
    "def calculate_quadrant_percentages(data):\n",
    "    total = len(data)\n",
    "    q1 = data[(data['Returns_SP500'] >= 0) & (data['Returns_STOXX'] >= 0)].shape[0] / total * 100\n",
    "    q2 = data[(data['Returns_SP500'] < 0) & (data['Returns_STOXX'] >= 0)].shape[0] / total * 100\n",
    "    q3 = data[(data['Returns_SP500'] < 0) & (data['Returns_STOXX'] < 0)].shape[0] / total * 100\n",
    "    q4 = data[(data['Returns_SP500'] >= 0) & (data['Returns_STOXX'] < 0)].shape[0] / total * 100\n",
    "    return q1, q2, q3, q4"
   ]
  },
  {
   "cell_type": "code",
   "execution_count": null,
   "metadata": {},
   "outputs": [],
   "source": [
    "# Creazione dei frame per l'animazione\n",
    "frames = []\n",
    "dates = merged_data['Date']\n",
    "for i, date in enumerate(dates):\n",
    "    data_until_date = merged_data.iloc[:i+1]\n",
    "    q1, q2, q3, q4 = calculate_quadrant_percentages(data_until_date)\n",
    "    frames.append(go.Frame(\n",
    "        data=[\n",
    "            go.Scatter(x=data_until_date['Returns_SP500'], y=data_until_date['Returns_STOXX'], mode='markers', marker=dict(color='blue')),\n",
    "            go.Scatter(x=[merged_data['Returns_SP500'].min(), merged_data['Returns_SP500'].max()], y=[0, 0], mode='lines', line=dict(color='black', dash='dash')),\n",
    "            go.Scatter(x=[0, 0], y=[merged_data['Returns_STOXX'].min(), merged_data['Returns_STOXX'].max()], mode='lines', line=dict(color='black', dash='dash'))\n",
    "        ],\n",
    "        name=str(date),\n",
    "        layout=go.Layout(\n",
    "            annotations=[\n",
    "                dict(x=0.05, y=0.05, text=f\"Q1: {q1:.1f}%\", showarrow=False, font=dict(size=12, color='black')),\n",
    "                dict(x=-0.05, y=0.05, text=f\"Q2: {q2:.1f}%\", showarrow=False, font=dict(size=12, color='black')),\n",
    "                dict(x=-0.05, y=-0.05, text=f\"Q3: {q3:.1f}%\", showarrow=False, font=dict(size=12, color='black')),\n",
    "                dict(x=0.05, y=-0.05, text=f\"Q4: {q4:.1f}%\", showarrow=False, font=dict(size=12, color='black'))\n",
    "            ]\n",
    "        )\n",
    "    ))"
   ]
  },
  {
   "cell_type": "code",
   "execution_count": null,
   "metadata": {},
   "outputs": [],
   "source": [
    "# Creazione della figura iniziale\n",
    "fig = go.Figure(\n",
    "    data=[\n",
    "        go.Scatter(x=[], y=[], mode='markers', marker=dict(color='blue')),\n",
    "        go.Scatter(x=[merged_data['Returns_SP500'].min(), merged_data['Returns_SP500'].max()], y=[0, 0], mode='lines', line=dict(color='black', dash='dash')),\n",
    "        go.Scatter(x=[0, 0], y=[merged_data['Returns_STOXX'].min(), merged_data['Returns_STOXX'].max()], mode='lines', line=dict(color='black', dash='dash'))\n",
    "    ],\n",
    "    layout=go.Layout(\n",
    "        title=\"Scatter Plot of Daily Returns: S&P 500 vs STOXX\",\n",
    "        xaxis_title=\"S&P 500 Daily Returns\",\n",
    "        yaxis_title=\"STOXX Daily Returns\",\n",
    "        xaxis=dict(zeroline=True, zerolinewidth=0.0, zerolinecolor='gray'),\n",
    "        yaxis=dict(zeroline=True, zerolinewidth=0.0, zerolinecolor='gray'),\n",
    "        updatemenus=[dict(\n",
    "            type=\"buttons\",\n",
    "            showactive=False,\n",
    "            buttons=[\n",
    "                dict(\n",
    "                    label=\"Start\",\n",
    "                    method=\"animate\",\n",
    "                    args=[\n",
    "                        None,\n",
    "                        {\"frame\": {\"duration\": 25, \"redraw\": True}, \"fromcurrent\": True, \"mode\": \"immediate\", \"transition\": {\"duration\": 0}, \"loop\": True}\n",
    "                    ]\n",
    "                )\n",
    "            ]\n",
    "        )]\n",
    "    ),\n",
    "    frames=frames\n",
    ")\n",
    "fig.show()"
   ]
  },
  {
   "cell_type": "code",
   "execution_count": null,
   "metadata": {},
   "outputs": [],
   "source": [
    "import numpy as np\n",
    "import scipy.stats as stats\n",
    "# Calcola i quantili teorici e campionari per il QQ plot\n",
    "sp500_sorted = np.sort(sp500_data['Returns'])\n",
    "stoxx50_sorted = np.sort(stoxx50_data['Returns'])\n",
    "\n",
    "# Quantili teorici della distribuzione normale\n",
    "theoretical_quantiles = stats.norm.ppf(np.linspace(0.01, 0.99, len(sp500_sorted)))\n",
    "\n",
    "# Quantili campionari\n",
    "sp500_quantiles = np.quantile(sp500_sorted, np.linspace(0.01, 0.99, len(sp500_sorted)))\n",
    "stoxx50_quantiles = np.quantile(stoxx50_sorted, np.linspace(0.01, 0.99, len(stoxx50_sorted)))"
   ]
  },
  {
   "cell_type": "code",
   "execution_count": null,
   "metadata": {},
   "outputs": [],
   "source": [
    "# Creazione del QQ plot\n",
    "fig = go.Figure()\n",
    "\n",
    "# Aggiungi i punti del QQ plot per S&P 500\n",
    "fig.add_trace(go.Scatter(\n",
    "    x=theoretical_quantiles,\n",
    "    y=sp500_quantiles,\n",
    "    mode='markers',\n",
    "    marker=dict(color='blue'),\n",
    "    name='S&P 500'\n",
    "))\n",
    "\n",
    "# Aggiungi i punti del QQ plot per STOXX50\n",
    "fig.add_trace(go.Scatter(\n",
    "    x=theoretical_quantiles,\n",
    "    y=stoxx50_quantiles,\n",
    "    mode='markers',\n",
    "    marker=dict(color='red'),\n",
    "    name='STOXX50'\n",
    "))\n",
    "\n",
    "# Aggiungi la linea y=x\n",
    "fig.add_trace(go.Scatter(\n",
    "    mode='lines',\n",
    "    line=dict(color='black', dash='dash'),\n",
    "    name='y = x'\n",
    "))\n",
    "\n",
    "# Configura il layout del grafico\n",
    "fig.update_layout(\n",
    "    title=\"QQ Plot: S&P 500 vs STOXX50 Daily Returns\",\n",
    "    xaxis_title=\"Theoretical Quantiles\",\n",
    "    yaxis_title=\"Sample Quantiles\",\n",
    "    xaxis=dict(zeroline=True, zerolinewidth=2, zerolinecolor='gray'),\n",
    "    yaxis=dict(zeroline=True, zerolinewidth=2, zerolinecolor='gray')\n",
    ")\n",
    "\n",
    "# Visualizzazione del grafico\n",
    "fig.show()"
   ]
  }
 ],
 "metadata": {
  "kernelspec": {
   "display_name": "Python 3",
   "language": "python",
   "name": "python3"
  },
  "language_info": {
   "codemirror_mode": {
    "name": "ipython",
    "version": 3
   },
   "file_extension": ".py",
   "mimetype": "text/x-python",
   "name": "python",
   "nbconvert_exporter": "python",
   "pygments_lexer": "ipython3",
   "version": "3.8.12"
  },
  "orig_nbformat": 4
 },
 "nbformat": 4,
 "nbformat_minor": 2
}
